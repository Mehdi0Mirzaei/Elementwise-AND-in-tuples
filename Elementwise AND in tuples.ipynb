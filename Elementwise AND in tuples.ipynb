{
 "cells": [
  {
   "cell_type": "code",
   "execution_count": 41,
   "id": "219b6820",
   "metadata": {},
   "outputs": [
    {
     "name": "stdout",
     "output_type": "stream",
     "text": [
      "The original tuple 1 : (10, 4, 6, 9)\n",
      "The original tuple 2 : (5, 2, 3, 3)\n",
      "The AND tuple : (0, 0, 2, 1)\n"
     ]
    }
   ],
   "source": [
    "# initialize tuples \n",
    "test_tup1 = (10, 4, 6, 9) \n",
    "test_tup2 = (5, 2, 3, 3) \n",
    " \n",
    "# printing original tuples \n",
    "print(\"The original tuple 1 : \" + str(test_tup1)) \n",
    "print(\"The original tuple 2 : \" + str(test_tup2)) \n",
    " \n",
    "# Elementwise AND in tuples\n",
    "# using zip() + generator expression \n",
    "res = tuple(ele1 & ele2 for ele1, ele2 in zip(test_tup1, test_tup2)) \n",
    " \n",
    "# printing result \n",
    "print(\"The AND tuple : \" + str(res)) "
   ]
  },
  {
   "cell_type": "code",
   "execution_count": 42,
   "id": "ef35e49f",
   "metadata": {},
   "outputs": [
    {
     "name": "stdout",
     "output_type": "stream",
     "text": [
      "The original tuple 1 : (10, 4, 6, 9)\n",
      "The original tuple 2 : (5, 2, 3, 3)\n",
      "The AND tuple : (0, 0, 2, 1)\n"
     ]
    }
   ],
   "source": [
    "import numpy as np\n",
    " \n",
    "# initialize tuples\n",
    "test_tup1 = (10, 4, 6, 9)\n",
    "test_tup2 = (5, 2, 3, 3)\n",
    " \n",
    "# printing original tuples\n",
    "print(\"The original tuple 1 : \" + str(test_tup1))\n",
    "print(\"The original tuple 2 : \" + str(test_tup2))\n",
    " \n",
    "# Elementwise AND in tuples\n",
    "# using numpy.bitwise_and\n",
    "res = tuple(np.bitwise_and(np.array(test_tup1), np.array(test_tup2)))\n",
    " \n",
    "# printing result\n",
    "print(\"The AND tuple : \" + str(res))"
   ]
  },
  {
   "cell_type": "code",
   "execution_count": 43,
   "id": "45bc8361",
   "metadata": {},
   "outputs": [
    {
     "name": "stdout",
     "output_type": "stream",
     "text": [
      "The AND tuple: (0, 0, 2, 1)\n"
     ]
    }
   ],
   "source": [
    "# Initialize input tuples\n",
    "test_tup1 = (10, 4, 6, 9)\n",
    "test_tup2 = (5, 2, 3, 3)\n",
    " \n",
    "# Perform elementwise AND operation using a list comprehension and bitwise &\n",
    "res = tuple(test_tup1[i] & test_tup2[i] for i in range(len(test_tup1)))\n",
    " \n",
    "# Print the resulting tuple\n",
    "print(\"The AND tuple: \" + str(res))"
   ]
  },
  {
   "cell_type": "code",
   "execution_count": 44,
   "id": "69d90586",
   "metadata": {},
   "outputs": [
    {
     "name": "stdout",
     "output_type": "stream",
     "text": [
      "The AND tuple: (0, 0, 2, 1)\n"
     ]
    }
   ],
   "source": [
    "test_tup1 = (10, 4, 6, 9)\n",
    "test_tup2 = (5, 2, 3, 3)\n",
    " \n",
    "and_tuple = ()\n",
    "for i in range(len(test_tup1)):\n",
    "    and_tuple += ((test_tup1[i] & test_tup2[i]),)\n",
    " \n",
    "print(\"The AND tuple:\", and_tuple)"
   ]
  },
  {
   "cell_type": "code",
   "execution_count": null,
   "id": "4ae302c1",
   "metadata": {},
   "outputs": [],
   "source": []
  }
 ],
 "metadata": {
  "kernelspec": {
   "display_name": "Python 3 (ipykernel)",
   "language": "python",
   "name": "python3"
  },
  "language_info": {
   "codemirror_mode": {
    "name": "ipython",
    "version": 3
   },
   "file_extension": ".py",
   "mimetype": "text/x-python",
   "name": "python",
   "nbconvert_exporter": "python",
   "pygments_lexer": "ipython3",
   "version": "3.9.13"
  }
 },
 "nbformat": 4,
 "nbformat_minor": 5
}
